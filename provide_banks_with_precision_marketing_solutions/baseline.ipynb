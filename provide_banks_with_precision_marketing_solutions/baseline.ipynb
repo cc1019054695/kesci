{
 "cells": [
  {
   "cell_type": "code",
   "execution_count": 1,
   "metadata": {},
   "outputs": [],
   "source": [
    "import warnings\n",
    "warnings.filterwarnings(\"ignore\")\n",
    "import pandas as pd\n",
    "import numpy as np\n",
    "\n",
    "from sklearn.preprocessing import LabelEncoder\n",
    "from sklearn.preprocessing import StandardScaler\n",
    "from sklearn.model_selection import train_test_split\n",
    "from sklearn.model_selection import StratifiedKFold\n",
    "import lightgbm as lgb\n",
    "from sklearn.metrics import roc_auc_score"
   ]
  },
  {
   "cell_type": "code",
   "execution_count": 2,
   "metadata": {},
   "outputs": [],
   "source": [
    "train = pd.read_csv('data/train_set.csv')\n",
    "test = pd.read_csv('data/test_set.csv')\n",
    "data = pd.concat([train,test])"
   ]
  },
  {
   "cell_type": "code",
   "execution_count": 3,
   "metadata": {},
   "outputs": [
    {
     "name": "stdout",
     "output_type": "stream",
     "text": [
      "['job', 'marital', 'education', 'default', 'housing', 'loan', 'contact', 'month', 'poutcome']\n",
      "['age', 'balance', 'pdays', 'campaign', 'duration', 'day', 'previous']\n"
     ]
    }
   ],
   "source": [
    "feature = train.columns.tolist()\n",
    "feature.remove('ID')\n",
    "feature.remove('y')\n",
    "object_columns = train.columns[train.dtypes == 'object'].tolist()\n",
    "num_columns = list(set(feature) - set(object_columns))\n",
    "print (object_columns)\n",
    "print (num_columns)"
   ]
  },
  {
   "cell_type": "code",
   "execution_count": 4,
   "metadata": {},
   "outputs": [
    {
     "data": {
      "text/html": [
       "<div>\n",
       "<style scoped>\n",
       "    .dataframe tbody tr th:only-of-type {\n",
       "        vertical-align: middle;\n",
       "    }\n",
       "\n",
       "    .dataframe tbody tr th {\n",
       "        vertical-align: top;\n",
       "    }\n",
       "\n",
       "    .dataframe thead th {\n",
       "        text-align: right;\n",
       "    }\n",
       "</style>\n",
       "<table border=\"1\" class=\"dataframe\">\n",
       "  <thead>\n",
       "    <tr style=\"text-align: right;\">\n",
       "      <th></th>\n",
       "      <th>age</th>\n",
       "      <th>balance</th>\n",
       "      <th>pdays</th>\n",
       "      <th>campaign</th>\n",
       "      <th>duration</th>\n",
       "      <th>day</th>\n",
       "      <th>previous</th>\n",
       "    </tr>\n",
       "  </thead>\n",
       "  <tbody>\n",
       "    <tr>\n",
       "      <th>count</th>\n",
       "      <td>25317.000000</td>\n",
       "      <td>25317.000000</td>\n",
       "      <td>25317.000000</td>\n",
       "      <td>25317.000000</td>\n",
       "      <td>25317.000000</td>\n",
       "      <td>25317.000000</td>\n",
       "      <td>25317.000000</td>\n",
       "    </tr>\n",
       "    <tr>\n",
       "      <th>mean</th>\n",
       "      <td>40.935379</td>\n",
       "      <td>1357.555082</td>\n",
       "      <td>40.248766</td>\n",
       "      <td>2.772050</td>\n",
       "      <td>257.732393</td>\n",
       "      <td>15.835289</td>\n",
       "      <td>0.591737</td>\n",
       "    </tr>\n",
       "    <tr>\n",
       "      <th>std</th>\n",
       "      <td>10.634289</td>\n",
       "      <td>2999.822811</td>\n",
       "      <td>100.213541</td>\n",
       "      <td>3.136097</td>\n",
       "      <td>256.975151</td>\n",
       "      <td>8.319480</td>\n",
       "      <td>2.568313</td>\n",
       "    </tr>\n",
       "    <tr>\n",
       "      <th>min</th>\n",
       "      <td>18.000000</td>\n",
       "      <td>-8019.000000</td>\n",
       "      <td>-1.000000</td>\n",
       "      <td>1.000000</td>\n",
       "      <td>0.000000</td>\n",
       "      <td>1.000000</td>\n",
       "      <td>0.000000</td>\n",
       "    </tr>\n",
       "    <tr>\n",
       "      <th>25%</th>\n",
       "      <td>33.000000</td>\n",
       "      <td>73.000000</td>\n",
       "      <td>-1.000000</td>\n",
       "      <td>1.000000</td>\n",
       "      <td>103.000000</td>\n",
       "      <td>8.000000</td>\n",
       "      <td>0.000000</td>\n",
       "    </tr>\n",
       "    <tr>\n",
       "      <th>50%</th>\n",
       "      <td>39.000000</td>\n",
       "      <td>448.000000</td>\n",
       "      <td>-1.000000</td>\n",
       "      <td>2.000000</td>\n",
       "      <td>181.000000</td>\n",
       "      <td>16.000000</td>\n",
       "      <td>0.000000</td>\n",
       "    </tr>\n",
       "    <tr>\n",
       "      <th>75%</th>\n",
       "      <td>48.000000</td>\n",
       "      <td>1435.000000</td>\n",
       "      <td>-1.000000</td>\n",
       "      <td>3.000000</td>\n",
       "      <td>317.000000</td>\n",
       "      <td>21.000000</td>\n",
       "      <td>0.000000</td>\n",
       "    </tr>\n",
       "    <tr>\n",
       "      <th>max</th>\n",
       "      <td>95.000000</td>\n",
       "      <td>102127.000000</td>\n",
       "      <td>854.000000</td>\n",
       "      <td>55.000000</td>\n",
       "      <td>3881.000000</td>\n",
       "      <td>31.000000</td>\n",
       "      <td>275.000000</td>\n",
       "    </tr>\n",
       "  </tbody>\n",
       "</table>\n",
       "</div>"
      ],
      "text/plain": [
       "                age        balance         pdays      campaign      duration  \\\n",
       "count  25317.000000   25317.000000  25317.000000  25317.000000  25317.000000   \n",
       "mean      40.935379    1357.555082     40.248766      2.772050    257.732393   \n",
       "std       10.634289    2999.822811    100.213541      3.136097    256.975151   \n",
       "min       18.000000   -8019.000000     -1.000000      1.000000      0.000000   \n",
       "25%       33.000000      73.000000     -1.000000      1.000000    103.000000   \n",
       "50%       39.000000     448.000000     -1.000000      2.000000    181.000000   \n",
       "75%       48.000000    1435.000000     -1.000000      3.000000    317.000000   \n",
       "max       95.000000  102127.000000    854.000000     55.000000   3881.000000   \n",
       "\n",
       "                day      previous  \n",
       "count  25317.000000  25317.000000  \n",
       "mean      15.835289      0.591737  \n",
       "std        8.319480      2.568313  \n",
       "min        1.000000      0.000000  \n",
       "25%        8.000000      0.000000  \n",
       "50%       16.000000      0.000000  \n",
       "75%       21.000000      0.000000  \n",
       "max       31.000000    275.000000  "
      ]
     },
     "execution_count": 4,
     "metadata": {},
     "output_type": "execute_result"
    }
   ],
   "source": [
    "train[num_columns].describe()"
   ]
  },
  {
   "cell_type": "code",
   "execution_count": 5,
   "metadata": {},
   "outputs": [],
   "source": [
    "for col in object_columns:\n",
    "    data = pd.concat([data, pd.get_dummies(data[col], prefix=col+'_')], axis=1)\n",
    "    data.drop(col, axis=1, inplace=True)"
   ]
  },
  {
   "cell_type": "code",
   "execution_count": 6,
   "metadata": {},
   "outputs": [],
   "source": [
    "X_train = data[data['y'].notnull()]\n",
    "X_test = data[data['y'].isnull()]\n",
    "\n",
    "y_train = X_train['y']\n",
    "X_train.drop(['ID', 'y'], axis=1, inplace=True)\n",
    "result = pd.DataFrame({'ID': X_test['ID']})\n",
    "X_test.drop(['ID', 'y'], axis=1, inplace=True)"
   ]
  },
  {
   "cell_type": "code",
   "execution_count": 7,
   "metadata": {},
   "outputs": [],
   "source": [
    "scaler = StandardScaler()\n",
    "scaler.fit(X_train[num_columns])\n",
    "X_train[num_columns] = scaler.transform(X_train[num_columns])\n",
    "X_test[num_columns] = scaler.transform(X_test[num_columns])"
   ]
  },
  {
   "cell_type": "code",
   "execution_count": 8,
   "metadata": {},
   "outputs": [
    {
     "name": "stdout",
     "output_type": "stream",
     "text": [
      "Start training...\n",
      "Training until validation scores don't improve for 100 rounds.\n",
      "[100]\tvalid_0's auc: 0.916089\n",
      "[200]\tvalid_0's auc: 0.92064\n",
      "[300]\tvalid_0's auc: 0.92451\n",
      "[400]\tvalid_0's auc: 0.926806\n",
      "[500]\tvalid_0's auc: 0.927627\n",
      "[600]\tvalid_0's auc: 0.928324\n",
      "[700]\tvalid_0's auc: 0.928518\n",
      "Early stopping, best iteration is:\n",
      "[652]\tvalid_0's auc: 0.928625\n",
      "Start predicting...\n",
      "0.9286252235563214\n"
     ]
    }
   ],
   "source": [
    "X_train, X_val, y_train, y_val = train_test_split(X_train, y_train, test_size=0.2, random_state=0)\n",
    "# 创建成lgb特征的数据集格式\n",
    "lgb_train = lgb.Dataset(X_train, y_train) # 将数据保存到LightGBM二进制文件将使加载更快\n",
    "lgb_val = lgb.Dataset(X_val, y_val, reference=lgb_train)  # 创建验证数据\n",
    " \n",
    "# 将参数写成字典下形式\n",
    "params = {\n",
    "    'task': 'train',\n",
    "    'boosting_type': 'gbdt',\n",
    "    'objective': 'binary',\n",
    "    'metric': {'auc'},\n",
    "    'learning_rate': 0.01,\n",
    "    'is_unbalance': True,\n",
    "    'random_state': 0,\n",
    "    'verbose': 0\n",
    "}\n",
    " \n",
    "print('Start training...')\n",
    "clf = lgb.train(params,\n",
    "                lgb_train,\n",
    "                valid_sets = lgb_val,\n",
    "                num_boost_round = 10000,\n",
    "                verbose_eval = 100,\n",
    "                early_stopping_rounds = 100)\n",
    " \n",
    "print('Start predicting...')\n",
    "# 预测数据集\n",
    "y_pred = clf.predict(X_val, num_iteration=clf.best_iteration) #如果在训练期间启用了早期停止，可以通过best_iteration方式从最佳迭代中获得预测\n",
    "# 评估模型\n",
    "print(roc_auc_score(y_val, y_pred))"
   ]
  },
  {
   "cell_type": "code",
   "execution_count": 9,
   "metadata": {},
   "outputs": [
    {
     "name": "stdout",
     "output_type": "stream",
     "text": [
      "      ID      pred\n",
      "0  25318  0.161860\n",
      "1  25319  0.024491\n",
      "2  25320  0.006308\n",
      "3  25321  0.903426\n",
      "4  25322  0.090160\n"
     ]
    }
   ],
   "source": [
    "y_test = clf.predict(X_test)\n",
    "result['pred'] = y_test\n",
    "print (result.head())\n",
    "result.to_csv('data/submission.csv', index=False)"
   ]
  },
  {
   "cell_type": "code",
   "execution_count": 10,
   "metadata": {},
   "outputs": [],
   "source": [
    "# param = {\n",
    "#     'task': 'train',\n",
    "#     'boosting_type': 'gbdt',  # 设置提升类型\n",
    "#     'objective': 'binary', # 目标函数\n",
    "#     'metric': {'auc'},  # 评估函数\n",
    "#     'learning_rate': 0.01,\n",
    "#     'is_unbalance': True,\n",
    "#     'verbose': 0 # <0 显示致命的, =0 显示错误 (警告), >0 显示信息\n",
    "# }\n",
    "# folds = StratifiedKFold(n_splits=5, shuffle=True, random_state=0)\n",
    "# oof = np.zeros(len(y_train))\n",
    "# result['pred'] = 0\n",
    "# feature_importance_df = pd.DataFrame()\n",
    "\n",
    "# for fold_, (tra_idx, val_idx) in enumerate(folds.split(X_train, y_train.values)):\n",
    "#     print(\"fold {}\".format(fold_))\n",
    "#     lgb_train = lgb.Dataset(X_train.iloc[tra_idx], label=y_train.iloc[tra_idx])#, categorical_feature=categorical_feats)\n",
    "#     lgb_val = lgb.Dataset(X_train.iloc[val_idx], label=y_train.iloc[val_idx])#, categorical_feature=categorical_feats)\n",
    "#     clf = lgb.train(param, \n",
    "#                     lgb_train, \n",
    "#                     num_boost_round = 10000,\n",
    "#                     valid_sets = [lgb_train, lgb_val], \n",
    "#                     verbose_eval=100, \n",
    "#                     early_stopping_rounds = 200)\n",
    "#     oof[val_idx] = clf.predict(X_train.iloc[val_idx], num_iteration=clf.best_iteration)\n",
    "#     fold_importance_df = pd.DataFrame()\n",
    "#     fold_importance_df[\"Feature\"] = X_train.columns.tolist()\n",
    "#     fold_importance_df[\"importance\"] = clf.feature_importance()\n",
    "#     fold_importance_df[\"fold\"] = fold_\n",
    "#     feature_importance_df = pd.concat([feature_importance_df, fold_importance_df], axis=0)\n",
    "#     result['pred'] += clf.predict(X_test, num_iteration=clf.best_iteration) / folds.n_splits"
   ]
  },
  {
   "cell_type": "code",
   "execution_count": 11,
   "metadata": {},
   "outputs": [],
   "source": [
    "# from sklearn.metrics import roc_auc_score\n",
    "# roc_auc_score(y_train, oof)"
   ]
  },
  {
   "cell_type": "code",
   "execution_count": 12,
   "metadata": {},
   "outputs": [],
   "source": [
    "# print (result.head())\n",
    "# result.to_csv('data/submission.csv', index=False)"
   ]
  },
  {
   "cell_type": "code",
   "execution_count": 13,
   "metadata": {},
   "outputs": [],
   "source": [
    "# feature_importance_sort = feature_importance_df[[\"Feature\", \"importance\"]].groupby(\"Feature\").mean()\\\n",
    "#                             .sort_values(by=\"importance\", ascending=False)\n",
    "# feature_importance_sort[:20]"
   ]
  },
  {
   "cell_type": "code",
   "execution_count": null,
   "metadata": {},
   "outputs": [],
   "source": []
  }
 ],
 "metadata": {
  "kernelspec": {
   "display_name": "Python 3",
   "language": "python",
   "name": "python3"
  },
  "language_info": {
   "codemirror_mode": {
    "name": "ipython",
    "version": 3
   },
   "file_extension": ".py",
   "mimetype": "text/x-python",
   "name": "python",
   "nbconvert_exporter": "python",
   "pygments_lexer": "ipython3",
   "version": "3.6.7"
  }
 },
 "nbformat": 4,
 "nbformat_minor": 2
}
